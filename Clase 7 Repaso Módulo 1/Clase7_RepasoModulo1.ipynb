{
 "cells": [
  {
   "cell_type": "markdown",
   "metadata": {},
   "source": [
    "# Examen Módulo 1 - Optimización. <font color=blue>Tipo de examen 1</font>.\n",
    "Tipo de exámen https://drive.google.com/file/d/1vkdFLsj8qsIR-TlqpcYBMu5z_HUncsyh/view\n",
    "\n",
    "Lea cuidadosamente las siguientes **indicaciones** antes de comenzar el examen:\n",
    "- Para resolver el examen edite este mismo archivo y renómbrelo de la siguiente manera: *E1ApellidoNombre*, donde *ApellidoNombre* corresponde a su apellido paterno con la inicial en mayúscula, seguido de su primer nombre con la inicial en mayúscula **sin acentos**. Por ejemplo, en mi caso el nombre del archivo sería *E1CristianZapata*.\n",
    "- Resuelva los puntos en el espacio provisto. Si requiere agregar más celdas para código o escritura, hágalo.\n",
    "- Recuerde que también se está evaluando su capacidad de interpretar los resultados. Escriba sus interpretaciones/conclusiones en celdas utilizando *Markdown*.\n",
    "- El formato de presentación de todo el examen en general debe ser adecuado. Use tamaños de letra, colores, etiquetas, etcétera.\n",
    "- No se resuelven dudas de ningún tipo por los profesores de la asignatura. Por favor, absténgase de preguntar.\n",
    "- Revise bien el tipo de examen. Sólo se le calificará si realiza el tipo de examen asignado."
   ]
  },
  {
   "cell_type": "markdown",
   "metadata": {},
   "source": [
    "## Primer punto. Optimización de funciones escalares usando `sympy` (30 puntos).\n",
    "\n",
    "**Enunciado.** Calcular **las dimensiones** del rectángulo de área máxima que puede inscribirse dentro de un semicírculo de radio 2.\n",
    "\n",
    "Note que **las dimensiones** son base $b = 2x$ y altura $h = y$. Ver la siguiente figura."
   ]
  },
  {
   "cell_type": "code",
   "execution_count": 1,
   "metadata": {},
   "outputs": [],
   "source": [
    "import numpy as np\n",
    "import matplotlib.pyplot as plt\n",
    "%matplotlib inline"
   ]
  },
  {
   "cell_type": "code",
   "execution_count": 2,
   "metadata": {},
   "outputs": [
    {
     "data": {
      "image/png": "[encoded data removed]",
      "text/plain": [
       "<Figure size 864x432 with 1 Axes>"
      ]
     },
     "metadata": {
      "needs_background": "light"
     },
     "output_type": "display_data"
    }
   ],
   "source": [
    "x = np.linspace(-2, 2, 100)\n",
    "y = np.sqrt(4 - x**2)\n",
    "\n",
    "xr = [-1.5, -1.5, 1.5, 1.5, -1.5]\n",
    "yr = [0, np.sqrt(4 - 1.5**2), np.sqrt(4 - 1.5**2), 0, 0]\n",
    "\n",
    "xx = [0, 1.5]\n",
    "yx = [0, 0]\n",
    "\n",
    "xy = [1.5, 1.5]\n",
    "yy = [0, np.sqrt(4 - 1.5**2)]\n",
    "\n",
    "plt.figure(figsize = (12, 6))\n",
    "plt.plot(x, y, 'b', label = 'semicírculo')\n",
    "plt.plot(xr, yr, 'r', label = 'rectángulo')\n",
    "plt.plot(xx, yx, 'k')\n",
    "plt.plot(xy, yy, 'g')\n",
    "plt.text(0.7, 0.1, '$x$', fontsize = 16)\n",
    "plt.text(1.6, 0.6, '$y$', fontsize = 16, color = 'g')\n",
    "plt.legend(loc = 'best')\n",
    "plt.show()"
   ]
  },
  {
   "cell_type": "markdown",
   "metadata": {},
   "source": [
    "**Punto 1 (10 puntos).** Encuentre el área del rectángulo en función de la variable $x$, $A_R(x)$. También provea el dominio de la función para que tenga sentido.\n",
    "\n",
    "Realice este punto usando fórmulas en LaTeX, en celdas Markdown."
   ]
  },
  {
   "cell_type": "markdown",
   "metadata": {},
   "source": [
    "**Solución punto 1.**"
   ]
  },
  {
   "cell_type": "markdown",
   "metadata": {},
   "source": [
    "El área del rectángulo $A_R$ está dada por \n",
    "\n",
    "$$A_R = bh$$\n",
    "\n",
    "Pero como $b = 2x$ y $h=y$ entonces\n",
    "\n",
    "$$A_R = 2xy$$\n",
    "\n",
    "La variable $y$ se puede escribir como función de $x$ usando el teorema de pitágoras\n",
    "\n",
    "$$y = \\sqrt{4-x^2}$$\n",
    "\n",
    "Reemplazando finalmente se tiene que\n",
    "\n",
    "$$A_R(x) = 2x\\sqrt{4-x^2}$$\n",
    "\n",
    "y el dominio de la función está dado por \n",
    "\n",
    "$$Dom_{A_R(x)} = [0,2]$$"
   ]
  },
  {
   "cell_type": "markdown",
   "metadata": {},
   "source": [
    "**Punto 2 (10 puntos).** Usando `sympy` maximice la función $A_R(x)$ en su dominio."
   ]
  },
  {
   "cell_type": "markdown",
   "metadata": {},
   "source": [
    "**Solución punto 2.**"
   ]
  },
  {
   "cell_type": "code",
   "execution_count": 3,
   "metadata": {},
   "outputs": [],
   "source": [
    "import sympy as sym"
   ]
  },
  {
   "cell_type": "code",
   "execution_count": 4,
   "metadata": {},
   "outputs": [
    {
     "data": {
      "text/plain": [
       "x"
      ]
     },
     "execution_count": 4,
     "metadata": {},
     "output_type": "execute_result"
    }
   ],
   "source": [
    "sym.var('x')"
   ]
  },
  {
   "cell_type": "code",
   "execution_count": 5,
   "metadata": {},
   "outputs": [],
   "source": [
    "def AR(x):\n",
    "    return 2*x*(4-x**2)**(1/2)"
   ]
  },
  {
   "cell_type": "code",
   "execution_count": 6,
   "metadata": {},
   "outputs": [
    {
     "data": {
      "text/plain": [
       "-2.0*x**2*(-x**2 + 4)**(-0.5) + 2*(-x**2 + 4)**0.5"
      ]
     },
     "execution_count": 6,
     "metadata": {},
     "output_type": "execute_result"
    }
   ],
   "source": [
    "dAR = sym.diff(AR(x),x)\n",
    "dAR"
   ]
  },
  {
   "cell_type": "code",
   "execution_count": 7,
   "metadata": {},
   "outputs": [
    {
     "data": {
      "text/plain": [
       "[-1.41421356237310, 1.41421356237310]"
      ]
     },
     "execution_count": 7,
     "metadata": {},
     "output_type": "execute_result"
    }
   ],
   "source": [
    "xc = sym.solve(dAR,x)\n",
    "xc"
   ]
  },
  {
   "cell_type": "code",
   "execution_count": 8,
   "metadata": {},
   "outputs": [
    {
     "data": {
      "text/plain": [
       "(0.0, 3.9999999992642556, 0.0)"
      ]
     },
     "execution_count": 8,
     "metadata": {},
     "output_type": "execute_result"
    }
   ],
   "source": [
    "AR(0), AR(1.4142), AR(2)"
   ]
  },
  {
   "cell_type": "markdown",
   "metadata": {},
   "source": [
    "El área máximo del rectángulo es $4$ cuando $x = 1.4142$"
   ]
  },
  {
   "cell_type": "markdown",
   "metadata": {},
   "source": [
    "**Punto 3 (10 puntos).** ¿Cuáles son las dimensiones $b$ y $h$ del rectángulo resultante?"
   ]
  },
  {
   "cell_type": "markdown",
   "metadata": {},
   "source": [
    "**Solución punto 3.**"
   ]
  },
  {
   "cell_type": "markdown",
   "metadata": {},
   "source": [
    "Por definición tenemos que $b = 2x$"
   ]
  },
  {
   "cell_type": "code",
   "execution_count": 9,
   "metadata": {},
   "outputs": [
    {
     "data": {
      "text/plain": [
       "2.82842712474619"
      ]
     },
     "execution_count": 9,
     "metadata": {},
     "output_type": "execute_result"
    }
   ],
   "source": [
    "b = 2*xc[1]\n",
    "b"
   ]
  },
  {
   "cell_type": "markdown",
   "metadata": {},
   "source": [
    "Para h se tiene que"
   ]
  },
  {
   "cell_type": "code",
   "execution_count": 10,
   "metadata": {},
   "outputs": [
    {
     "data": {
      "text/plain": [
       "1.41421356237309"
      ]
     },
     "execution_count": 10,
     "metadata": {},
     "output_type": "execute_result"
    }
   ],
   "source": [
    "h = (4-xc[1]**2)**(1/2)\n",
    "h"
   ]
  },
  {
   "cell_type": "markdown",
   "metadata": {},
   "source": [
    "## Segundo punto. Programación lineal (35 puntos)."
   ]
  },
  {
   "cell_type": "markdown",
   "metadata": {},
   "source": [
    "**Enunciado.** Considere un restaurante que abre los siete días de la semana. Con base en la experiencia, el mínimo número de trabajadores necesarios en cada día de la semana es:"
   ]
  },
  {
   "cell_type": "code",
   "execution_count": 11,
   "metadata": {},
   "outputs": [],
   "source": [
    "import pandas as pd"
   ]
  },
  {
   "cell_type": "code",
   "execution_count": 12,
   "metadata": {},
   "outputs": [
    {
     "data": {
      "text/html": [
       "<div>\n",
       "<style scoped>\n",
       "    .dataframe tbody tr th:only-of-type {\n",
       "        vertical-align: middle;\n",
       "    }\n",
       "\n",
       "    .dataframe tbody tr th {\n",
       "        vertical-align: top;\n",
       "    }\n",
       "\n",
       "    .dataframe thead th {\n",
       "        text-align: right;\n",
       "    }\n",
       "</style>\n",
       "<table border=\"1\" class=\"dataframe\">\n",
       "  <thead>\n",
       "    <tr style=\"text-align: right;\">\n",
       "      <th></th>\n",
       "      <th>Lunes</th>\n",
       "      <th>Martes</th>\n",
       "      <th>Miercoles</th>\n",
       "      <th>Jueves</th>\n",
       "      <th>Viernes</th>\n",
       "      <th>Sábado</th>\n",
       "      <th>Domingo</th>\n",
       "    </tr>\n",
       "  </thead>\n",
       "  <tbody>\n",
       "    <tr>\n",
       "      <th>Num_trabajadores</th>\n",
       "      <td>14</td>\n",
       "      <td>13</td>\n",
       "      <td>15</td>\n",
       "      <td>16</td>\n",
       "      <td>19</td>\n",
       "      <td>18</td>\n",
       "      <td>11</td>\n",
       "    </tr>\n",
       "  </tbody>\n",
       "</table>\n",
       "</div>"
      ],
      "text/plain": [
       "                  Lunes  Martes  Miercoles  Jueves  Viernes  Sábado  Domingo\n",
       "Num_trabajadores     14      13         15      16       19      18       11"
      ]
     },
     "execution_count": 12,
     "metadata": {},
     "output_type": "execute_result"
    }
   ],
   "source": [
    "df = pd.DataFrame(columns=['Lunes', 'Martes', 'Miercoles', 'Jueves', 'Viernes', 'Sábado', 'Domingo'], index = ['Num_trabajadores'])\n",
    "df.loc['Num_trabajadores', :] = [14, 13, 15, 16, 19, 18, 11]\n",
    "df"
   ]
  },
  {
   "cell_type": "markdown",
   "metadata": {},
   "source": [
    "Cada trabajador trabaja cinco días consecutivos, y luego descansa dos, repitiendo este patrón indefinidamente. Se debe minimizar la cantidad de trabajadores totales en el restaurante.\n",
    "\n",
    "*Definición de variables*: enumeramos los días del uno al siete (Lunes - 1, Martes - 2, ..., Domingo - 7). Sea $x_i$ el número de trabajadores que empieza su turno de cinco días el día $i$."
   ]
  },
  {
   "cell_type": "markdown",
   "metadata": {},
   "source": [
    "**Punto 1 (20 puntos).** Escriba la función a minimizar junto con las restricciones, explicando detalladamente cada paso (usando fórmulas en LaTeX, en celdas Markdown). Además escriba el problema en la forma \n",
    "\\begin{equation}\n",
    "\\begin{array}{ll}\n",
    "\\min_{\\boldsymbol{x}} & \\boldsymbol{c}^T\\boldsymbol{x} \\\\\n",
    "\\text{s. a. }        & \\boldsymbol{A}_{eq}\\boldsymbol{x}=\\boldsymbol{b}_{eq} \\\\\n",
    "                     & \\boldsymbol{A}\\boldsymbol{x}\\leq\\boldsymbol{b},\n",
    "\\end{array}\n",
    "\\end{equation}\n",
    "\n",
    "proporcionando $\\boldsymbol{c}$, $\\boldsymbol{A}$ y $\\boldsymbol{b}$ ($\\boldsymbol{A}_{eq}$ y $\\boldsymbol{b}_{eq}$, de ser necesario) como arreglos de `NumPy` (no es necesario escribir en LaTeX el problema en la forma indicada, solo proporcionar las matrices como arreglos de `NumPy`)."
   ]
  },
  {
   "cell_type": "markdown",
   "metadata": {},
   "source": [
    "**Solución punto 1.**"
   ]
  },
  {
   "cell_type": "markdown",
   "metadata": {},
   "source": [
    "La función a minimiar viene dada por\n",
    "\n",
    "$$\\min_{x_1,\\cdots,x_7} x_1+x_2+x_3+x_4+x_5+x_6+x_7$$\n",
    "\n",
    "y las restricciones están dadas por la información dada en la tabla\n",
    "\n",
    "$$x_1+x_4+x_5+x_6+x_7 \\geq 14$$\n",
    "$$x_1+x_2+x_5+x_6+x_7 \\geq 13$$\n",
    "$$x_1+x_2+x_3+x_6+x_7 \\geq 15$$\n",
    "$$x_1+x_2+x_3+x_4+x_7 \\geq 16$$\n",
    "\n",
    "Así se escribe menor o igual $\\leq$"
   ]
  },
  {
   "cell_type": "code",
   "execution_count": 13,
   "metadata": {},
   "outputs": [],
   "source": [
    "A = np.array([[-1,0,0,-1,-1,-1,-1],\n",
    "             [-1,-1,0,0,-1,-1,-1],\n",
    "             [-1,-1,-1,0,0,-1,-1],\n",
    "             [-1,-1,-1,-1,0,0,-1],\n",
    "             [-1,-1,-1,-1,-1,0,0],\n",
    "             [0,-1,-1,-1,-1,-1,0],\n",
    "             [0,0,-1,-1,-1,-1,-1]])\n",
    "b = np.array([-14,-13,-15,-16,-19,-18,-11])\n",
    "c = np.array([1,1,1,1,1,1,1])"
   ]
  },
  {
   "cell_type": "markdown",
   "metadata": {},
   "source": [
    "**Punto 2 (15 puntos).** Resuelva el problema utilizando la función `linprog`. ¿Cuántos trabajadores son necesarios en total?"
   ]
  },
  {
   "cell_type": "code",
   "execution_count": 14,
   "metadata": {},
   "outputs": [],
   "source": [
    "import scipy.optimize as opt"
   ]
  },
  {
   "cell_type": "code",
   "execution_count": 15,
   "metadata": {},
   "outputs": [
    {
     "data": {
      "text/plain": [
       "     con: array([], dtype=float64)\n",
       "     fun: 22.0\n",
       " message: 'Optimization terminated successfully.'\n",
       "     nit: 7\n",
       "   slack: array([0., 4., 0., 0., 0., 0., 0.])\n",
       "  status: 0\n",
       " success: True\n",
       "       x: array([4., 7., 1., 4., 3., 3., 0.])"
      ]
     },
     "execution_count": 15,
     "metadata": {},
     "output_type": "execute_result"
    }
   ],
   "source": [
    "resultado = opt.linprog(c,A_ub=A,b_ub=b)\n",
    "resultado"
   ]
  },
  {
   "cell_type": "markdown",
   "metadata": {},
   "source": [
    "**Conclusión** En total es necesario 22 trabajadores"
   ]
  },
  {
   "cell_type": "markdown",
   "metadata": {},
   "source": [
    "## Tercer punto. Ajuste de curvas (35 puntos).\n",
    "\n",
    "**Enunciado**. El archivo `population_urban.csv` contiene información histórica anual de México relativa a el % de población urbana.\n",
    "\n",
    "**Punto 1 (10 puntos).** Importar los datos en un DataFrame de pandas."
   ]
  },
  {
   "cell_type": "markdown",
   "metadata": {},
   "source": [
    "**Solución punto 1.**"
   ]
  },
  {
   "cell_type": "code",
   "execution_count": 16,
   "metadata": {},
   "outputs": [],
   "source": [
    "import pandas as pd"
   ]
  },
  {
   "cell_type": "code",
   "execution_count": 17,
   "metadata": {},
   "outputs": [
    {
     "data": {
      "text/html": [
       "<div>\n",
       "<style scoped>\n",
       "    .dataframe tbody tr th:only-of-type {\n",
       "        vertical-align: middle;\n",
       "    }\n",
       "\n",
       "    .dataframe tbody tr th {\n",
       "        vertical-align: top;\n",
       "    }\n",
       "\n",
       "    .dataframe thead th {\n",
       "        text-align: right;\n",
       "    }\n",
       "</style>\n",
       "<table border=\"1\" class=\"dataframe\">\n",
       "  <thead>\n",
       "    <tr style=\"text-align: right;\">\n",
       "      <th></th>\n",
       "      <th>Unnamed: 0</th>\n",
       "      <th>Year</th>\n",
       "      <th>Urban population (% of total)</th>\n",
       "    </tr>\n",
       "  </thead>\n",
       "  <tbody>\n",
       "    <tr>\n",
       "      <th>0</th>\n",
       "      <td>1</td>\n",
       "      <td>1960</td>\n",
       "      <td>50.753</td>\n",
       "    </tr>\n",
       "    <tr>\n",
       "      <th>1</th>\n",
       "      <td>2</td>\n",
       "      <td>1961</td>\n",
       "      <td>51.590</td>\n",
       "    </tr>\n",
       "    <tr>\n",
       "      <th>2</th>\n",
       "      <td>3</td>\n",
       "      <td>1962</td>\n",
       "      <td>52.428</td>\n",
       "    </tr>\n",
       "    <tr>\n",
       "      <th>3</th>\n",
       "      <td>4</td>\n",
       "      <td>1963</td>\n",
       "      <td>53.265</td>\n",
       "    </tr>\n",
       "    <tr>\n",
       "      <th>4</th>\n",
       "      <td>5</td>\n",
       "      <td>1964</td>\n",
       "      <td>54.100</td>\n",
       "    </tr>\n",
       "    <tr>\n",
       "      <th>5</th>\n",
       "      <td>6</td>\n",
       "      <td>1965</td>\n",
       "      <td>54.931</td>\n",
       "    </tr>\n",
       "    <tr>\n",
       "      <th>6</th>\n",
       "      <td>7</td>\n",
       "      <td>1966</td>\n",
       "      <td>55.761</td>\n",
       "    </tr>\n",
       "    <tr>\n",
       "      <th>7</th>\n",
       "      <td>8</td>\n",
       "      <td>1967</td>\n",
       "      <td>56.587</td>\n",
       "    </tr>\n",
       "    <tr>\n",
       "      <th>8</th>\n",
       "      <td>9</td>\n",
       "      <td>1968</td>\n",
       "      <td>57.411</td>\n",
       "    </tr>\n",
       "    <tr>\n",
       "      <th>9</th>\n",
       "      <td>10</td>\n",
       "      <td>1969</td>\n",
       "      <td>58.229</td>\n",
       "    </tr>\n",
       "    <tr>\n",
       "      <th>10</th>\n",
       "      <td>11</td>\n",
       "      <td>1970</td>\n",
       "      <td>59.021</td>\n",
       "    </tr>\n",
       "    <tr>\n",
       "      <th>11</th>\n",
       "      <td>12</td>\n",
       "      <td>1971</td>\n",
       "      <td>59.779</td>\n",
       "    </tr>\n",
       "    <tr>\n",
       "      <th>12</th>\n",
       "      <td>13</td>\n",
       "      <td>1972</td>\n",
       "      <td>60.532</td>\n",
       "    </tr>\n",
       "    <tr>\n",
       "      <th>13</th>\n",
       "      <td>14</td>\n",
       "      <td>1973</td>\n",
       "      <td>61.279</td>\n",
       "    </tr>\n",
       "    <tr>\n",
       "      <th>14</th>\n",
       "      <td>15</td>\n",
       "      <td>1974</td>\n",
       "      <td>62.022</td>\n",
       "    </tr>\n",
       "    <tr>\n",
       "      <th>15</th>\n",
       "      <td>16</td>\n",
       "      <td>1975</td>\n",
       "      <td>62.759</td>\n",
       "    </tr>\n",
       "    <tr>\n",
       "      <th>16</th>\n",
       "      <td>17</td>\n",
       "      <td>1976</td>\n",
       "      <td>63.491</td>\n",
       "    </tr>\n",
       "    <tr>\n",
       "      <th>17</th>\n",
       "      <td>18</td>\n",
       "      <td>1977</td>\n",
       "      <td>64.215</td>\n",
       "    </tr>\n",
       "    <tr>\n",
       "      <th>18</th>\n",
       "      <td>19</td>\n",
       "      <td>1978</td>\n",
       "      <td>64.934</td>\n",
       "    </tr>\n",
       "    <tr>\n",
       "      <th>19</th>\n",
       "      <td>20</td>\n",
       "      <td>1979</td>\n",
       "      <td>65.646</td>\n",
       "    </tr>\n",
       "    <tr>\n",
       "      <th>20</th>\n",
       "      <td>21</td>\n",
       "      <td>1980</td>\n",
       "      <td>66.339</td>\n",
       "    </tr>\n",
       "    <tr>\n",
       "      <th>21</th>\n",
       "      <td>22</td>\n",
       "      <td>1981</td>\n",
       "      <td>66.870</td>\n",
       "    </tr>\n",
       "    <tr>\n",
       "      <th>22</th>\n",
       "      <td>23</td>\n",
       "      <td>1982</td>\n",
       "      <td>67.396</td>\n",
       "    </tr>\n",
       "    <tr>\n",
       "      <th>23</th>\n",
       "      <td>24</td>\n",
       "      <td>1983</td>\n",
       "      <td>67.919</td>\n",
       "    </tr>\n",
       "    <tr>\n",
       "      <th>24</th>\n",
       "      <td>25</td>\n",
       "      <td>1984</td>\n",
       "      <td>68.437</td>\n",
       "    </tr>\n",
       "    <tr>\n",
       "      <th>25</th>\n",
       "      <td>26</td>\n",
       "      <td>1985</td>\n",
       "      <td>68.950</td>\n",
       "    </tr>\n",
       "    <tr>\n",
       "      <th>26</th>\n",
       "      <td>27</td>\n",
       "      <td>1986</td>\n",
       "      <td>69.459</td>\n",
       "    </tr>\n",
       "    <tr>\n",
       "      <th>27</th>\n",
       "      <td>28</td>\n",
       "      <td>1987</td>\n",
       "      <td>69.963</td>\n",
       "    </tr>\n",
       "    <tr>\n",
       "      <th>28</th>\n",
       "      <td>29</td>\n",
       "      <td>1988</td>\n",
       "      <td>70.462</td>\n",
       "    </tr>\n",
       "    <tr>\n",
       "      <th>29</th>\n",
       "      <td>30</td>\n",
       "      <td>1989</td>\n",
       "      <td>70.956</td>\n",
       "    </tr>\n",
       "    <tr>\n",
       "      <th>30</th>\n",
       "      <td>31</td>\n",
       "      <td>1990</td>\n",
       "      <td>71.419</td>\n",
       "    </tr>\n",
       "    <tr>\n",
       "      <th>31</th>\n",
       "      <td>32</td>\n",
       "      <td>1991</td>\n",
       "      <td>71.816</td>\n",
       "    </tr>\n",
       "    <tr>\n",
       "      <th>32</th>\n",
       "      <td>33</td>\n",
       "      <td>1992</td>\n",
       "      <td>72.209</td>\n",
       "    </tr>\n",
       "    <tr>\n",
       "      <th>33</th>\n",
       "      <td>34</td>\n",
       "      <td>1993</td>\n",
       "      <td>72.598</td>\n",
       "    </tr>\n",
       "    <tr>\n",
       "      <th>34</th>\n",
       "      <td>35</td>\n",
       "      <td>1994</td>\n",
       "      <td>72.985</td>\n",
       "    </tr>\n",
       "    <tr>\n",
       "      <th>35</th>\n",
       "      <td>36</td>\n",
       "      <td>1995</td>\n",
       "      <td>73.368</td>\n",
       "    </tr>\n",
       "    <tr>\n",
       "      <th>36</th>\n",
       "      <td>37</td>\n",
       "      <td>1996</td>\n",
       "      <td>73.670</td>\n",
       "    </tr>\n",
       "    <tr>\n",
       "      <th>37</th>\n",
       "      <td>38</td>\n",
       "      <td>1997</td>\n",
       "      <td>73.929</td>\n",
       "    </tr>\n",
       "    <tr>\n",
       "      <th>38</th>\n",
       "      <td>39</td>\n",
       "      <td>1998</td>\n",
       "      <td>74.186</td>\n",
       "    </tr>\n",
       "    <tr>\n",
       "      <th>39</th>\n",
       "      <td>40</td>\n",
       "      <td>1999</td>\n",
       "      <td>74.441</td>\n",
       "    </tr>\n",
       "    <tr>\n",
       "      <th>40</th>\n",
       "      <td>41</td>\n",
       "      <td>2000</td>\n",
       "      <td>74.722</td>\n",
       "    </tr>\n",
       "    <tr>\n",
       "      <th>41</th>\n",
       "      <td>42</td>\n",
       "      <td>2001</td>\n",
       "      <td>75.045</td>\n",
       "    </tr>\n",
       "    <tr>\n",
       "      <th>42</th>\n",
       "      <td>43</td>\n",
       "      <td>2002</td>\n",
       "      <td>75.365</td>\n",
       "    </tr>\n",
       "    <tr>\n",
       "      <th>43</th>\n",
       "      <td>44</td>\n",
       "      <td>2003</td>\n",
       "      <td>75.682</td>\n",
       "    </tr>\n",
       "    <tr>\n",
       "      <th>44</th>\n",
       "      <td>45</td>\n",
       "      <td>2004</td>\n",
       "      <td>75.997</td>\n",
       "    </tr>\n",
       "    <tr>\n",
       "      <th>45</th>\n",
       "      <td>46</td>\n",
       "      <td>2005</td>\n",
       "      <td>76.308</td>\n",
       "    </tr>\n",
       "    <tr>\n",
       "      <th>46</th>\n",
       "      <td>47</td>\n",
       "      <td>2006</td>\n",
       "      <td>76.616</td>\n",
       "    </tr>\n",
       "    <tr>\n",
       "      <th>47</th>\n",
       "      <td>48</td>\n",
       "      <td>2007</td>\n",
       "      <td>76.920</td>\n",
       "    </tr>\n",
       "    <tr>\n",
       "      <th>48</th>\n",
       "      <td>49</td>\n",
       "      <td>2008</td>\n",
       "      <td>77.222</td>\n",
       "    </tr>\n",
       "    <tr>\n",
       "      <th>49</th>\n",
       "      <td>50</td>\n",
       "      <td>2009</td>\n",
       "      <td>77.520</td>\n",
       "    </tr>\n",
       "    <tr>\n",
       "      <th>50</th>\n",
       "      <td>51</td>\n",
       "      <td>2010</td>\n",
       "      <td>77.815</td>\n",
       "    </tr>\n",
       "    <tr>\n",
       "      <th>51</th>\n",
       "      <td>52</td>\n",
       "      <td>2011</td>\n",
       "      <td>78.111</td>\n",
       "    </tr>\n",
       "    <tr>\n",
       "      <th>52</th>\n",
       "      <td>53</td>\n",
       "      <td>2012</td>\n",
       "      <td>78.405</td>\n",
       "    </tr>\n",
       "    <tr>\n",
       "      <th>53</th>\n",
       "      <td>54</td>\n",
       "      <td>2013</td>\n",
       "      <td>78.699</td>\n",
       "    </tr>\n",
       "    <tr>\n",
       "      <th>54</th>\n",
       "      <td>55</td>\n",
       "      <td>2014</td>\n",
       "      <td>78.993</td>\n",
       "    </tr>\n",
       "    <tr>\n",
       "      <th>55</th>\n",
       "      <td>56</td>\n",
       "      <td>2015</td>\n",
       "      <td>79.285</td>\n",
       "    </tr>\n",
       "  </tbody>\n",
       "</table>\n",
       "</div>"
      ],
      "text/plain": [
       "    Unnamed: 0  Year  Urban population (% of total)\n",
       "0            1  1960                         50.753\n",
       "1            2  1961                         51.590\n",
       "2            3  1962                         52.428\n",
       "3            4  1963                         53.265\n",
       "4            5  1964                         54.100\n",
       "5            6  1965                         54.931\n",
       "6            7  1966                         55.761\n",
       "7            8  1967                         56.587\n",
       "8            9  1968                         57.411\n",
       "9           10  1969                         58.229\n",
       "10          11  1970                         59.021\n",
       "11          12  1971                         59.779\n",
       "12          13  1972                         60.532\n",
       "13          14  1973                         61.279\n",
       "14          15  1974                         62.022\n",
       "15          16  1975                         62.759\n",
       "16          17  1976                         63.491\n",
       "17          18  1977                         64.215\n",
       "18          19  1978                         64.934\n",
       "19          20  1979                         65.646\n",
       "20          21  1980                         66.339\n",
       "21          22  1981                         66.870\n",
       "22          23  1982                         67.396\n",
       "23          24  1983                         67.919\n",
       "24          25  1984                         68.437\n",
       "25          26  1985                         68.950\n",
       "26          27  1986                         69.459\n",
       "27          28  1987                         69.963\n",
       "28          29  1988                         70.462\n",
       "29          30  1989                         70.956\n",
       "30          31  1990                         71.419\n",
       "31          32  1991                         71.816\n",
       "32          33  1992                         72.209\n",
       "33          34  1993                         72.598\n",
       "34          35  1994                         72.985\n",
       "35          36  1995                         73.368\n",
       "36          37  1996                         73.670\n",
       "37          38  1997                         73.929\n",
       "38          39  1998                         74.186\n",
       "39          40  1999                         74.441\n",
       "40          41  2000                         74.722\n",
       "41          42  2001                         75.045\n",
       "42          43  2002                         75.365\n",
       "43          44  2003                         75.682\n",
       "44          45  2004                         75.997\n",
       "45          46  2005                         76.308\n",
       "46          47  2006                         76.616\n",
       "47          48  2007                         76.920\n",
       "48          49  2008                         77.222\n",
       "49          50  2009                         77.520\n",
       "50          51  2010                         77.815\n",
       "51          52  2011                         78.111\n",
       "52          53  2012                         78.405\n",
       "53          54  2013                         78.699\n",
       "54          55  2014                         78.993\n",
       "55          56  2015                         79.285"
      ]
     },
     "execution_count": 17,
     "metadata": {},
     "output_type": "execute_result"
    }
   ],
   "source": [
    "file_name = 'population_urban.csv'\n",
    "data = pd.read_csv(file_name)\n",
    "data"
   ]
  },
  {
   "cell_type": "markdown",
   "metadata": {},
   "source": [
    "**Punto 2 (15 puntos).** Usando el consecutivo como variable independiente $x$ y la población como variable dependiente $y$, ajustar polinomios de grado 1 hasta grado 3.\n",
    "\n",
    "Mostrar en un solo gráfico los datos de población contra los años, y los polinomios ajustados.\n",
    "\n",
    "Graficar el error cuadrático acumulado contra el número de términos. ¿Cuál es el polinomio que mejor se ajusta?"
   ]
  },
  {
   "cell_type": "markdown",
   "metadata": {},
   "source": [
    "**Solución punto 2.**"
   ]
  },
  {
   "cell_type": "code",
   "execution_count": 18,
   "metadata": {},
   "outputs": [],
   "source": [
    "x = data.iloc[:,0].values\n",
    "y = data.iloc[:,2].values"
   ]
  },
  {
   "cell_type": "code",
   "execution_count": 19,
   "metadata": {},
   "outputs": [],
   "source": [
    "def fun_obj(beta,x,y,n):\n",
    "    yhat = beta.dot([x**i for i in range(n+1)])\n",
    "    e = y-yhat\n",
    "    return np.sum(e**2)"
   ]
  },
  {
   "cell_type": "code",
   "execution_count": 20,
   "metadata": {},
   "outputs": [],
   "source": [
    "b01 = np.zeros(2)\n",
    "b02 = np.zeros(3)\n",
    "b03 = np.zeros(4)\n",
    "\n",
    "ajuste1 = opt.minimize(fun_obj,b01,args=(x,y,1))\n",
    "ajuste2 = opt.minimize(fun_obj,b02,args=(x,y,2))\n",
    "ajuste3 = opt.minimize(fun_obj,b03,args=(x,y,3))"
   ]
  },
  {
   "cell_type": "code",
   "execution_count": 21,
   "metadata": {},
   "outputs": [
    {
     "data": {
      "text/plain": [
       "      fun: 160.41809435914\n",
       " hess_inv: array([[ 3.66882955e-02, -9.74025529e-04],\n",
       "       [-9.74025529e-04,  3.41763378e-05]])\n",
       "      jac: array([3.81469727e-06, 7.62939453e-06])\n",
       "  message: 'Optimization terminated successfully.'\n",
       "     nfev: 24\n",
       "      nit: 4\n",
       "     njev: 6\n",
       "   status: 0\n",
       "  success: True\n",
       "        x: array([53.84191131,  0.50354823])"
      ]
     },
     "execution_count": 21,
     "metadata": {},
     "output_type": "execute_result"
    }
   ],
   "source": [
    "ajuste1"
   ]
  },
  {
   "cell_type": "code",
   "execution_count": 22,
   "metadata": {},
   "outputs": [
    {
     "data": {
      "text/plain": [
       "      fun: 4.537350415179322\n",
       " hess_inv: array([[ 8.63840192e-02, -6.11490911e-03,  9.01905051e-05],\n",
       "       [-6.11490911e-03,  5.65984714e-04, -9.32992658e-06],\n",
       "       [ 9.01905051e-05, -9.32992658e-06,  1.63682181e-07]])\n",
       "      jac: array([-0.0023551 , -0.07818711, -1.82193732])\n",
       "  message: 'Desired error not necessarily achieved due to precision loss.'\n",
       "     nfev: 327\n",
       "      nit: 4\n",
       "     njev: 63\n",
       "   status: 2\n",
       "  success: False\n",
       "        x: array([ 4.99058231e+01,  9.10728322e-01, -7.14351707e-03])"
      ]
     },
     "execution_count": 22,
     "metadata": {},
     "output_type": "execute_result"
    }
   ],
   "source": [
    "ajuste2"
   ]
  },
  {
   "cell_type": "code",
   "execution_count": 23,
   "metadata": {},
   "outputs": [
    {
     "data": {
      "text/plain": [
       "      fun: 1.8842385595701139\n",
       " hess_inv: array([[ 1.63927325e-01, -2.17469951e-02,  7.69854741e-04,\n",
       "        -7.95020883e-06],\n",
       "       [-2.17469951e-02,  3.71755442e-03, -1.46351893e-04,\n",
       "         1.60272926e-06],\n",
       "       [ 7.69854741e-04, -1.46351893e-04,  6.12107964e-06,\n",
       "        -6.96835380e-08],\n",
       "       [-7.95020883e-06,  1.60272926e-06, -6.96835380e-08,\n",
       "         8.15094304e-10]])\n",
       "      jac: array([-0.00316893, -0.08658566, -1.67891334,  0.03918236])\n",
       "  message: 'Desired error not necessarily achieved due to precision loss.'\n",
       "     nfev: 504\n",
       "      nit: 7\n",
       "     njev: 82\n",
       "   status: 2\n",
       "  success: False\n",
       "        x: array([ 4.92939370e+01,  1.03411708e+00, -1.25077203e-02,  6.27395506e-05])"
      ]
     },
     "execution_count": 23,
     "metadata": {},
     "output_type": "execute_result"
    }
   ],
   "source": [
    "ajuste3"
   ]
  },
  {
   "cell_type": "code",
   "execution_count": 24,
   "metadata": {},
   "outputs": [],
   "source": [
    "beta1 = ajuste1.x\n",
    "beta2 = ajuste2.x\n",
    "beta3 = ajuste3.x"
   ]
  },
  {
   "cell_type": "code",
   "execution_count": 25,
   "metadata": {},
   "outputs": [],
   "source": [
    "yhat1 = beta1[0] + beta1[1]*x\n",
    "yhat2 = beta2[0] + beta2[1]*x + beta2[2]*x**2\n",
    "yhat3 = beta3[0] + beta3[1]*x + beta3[2]*x**2 + beta3[3]*x**3"
   ]
  },
  {
   "cell_type": "code",
   "execution_count": 26,
   "metadata": {},
   "outputs": [],
   "source": [
    "import matplotlib.pyplot as plt"
   ]
  },
  {
   "cell_type": "code",
   "execution_count": 27,
   "metadata": {},
   "outputs": [
    {
     "data": {
      "image/png": "[encoded data removed]",
      "text/plain": [
       "<Figure size 576x432 with 1 Axes>"
      ]
     },
     "metadata": {
      "needs_background": "light"
     },
     "output_type": "display_data"
    }
   ],
   "source": [
    "plt.figure(figsize=(8,6))\n",
    "plt.plot(x,y,'r*',ms = 6,label='Puntos')\n",
    "plt.plot(x,yhat1,'b',ms = 6,label='Ajuste 1')\n",
    "plt.plot(x,yhat2,'k',ms = 6,label='Ajuste 2')\n",
    "plt.plot(x,yhat3,'g',ms = 6,label='Ajuste 3')\n",
    "plt.grid()\n",
    "plt.legend(loc='best')\n",
    "plt.xlabel('Años')\n",
    "plt.ylabel('Población en miles de personas')\n",
    "plt.show()"
   ]
  },
  {
   "cell_type": "code",
   "execution_count": 28,
   "metadata": {},
   "outputs": [
    {
     "data": {
      "text/plain": [
       "Text(0, 0.5, 'Error')"
      ]
     },
     "execution_count": 28,
     "metadata": {},
     "output_type": "execute_result"
    },
    {
     "data": {
      "image/png": "[encoded data removed]",
      "text/plain": [
       "<Figure size 576x432 with 1 Axes>"
      ]
     },
     "metadata": {
      "needs_background": "light"
     },
     "output_type": "display_data"
    }
   ],
   "source": [
    "error = [ajuste1.fun,ajuste2.fun,ajuste3.fun]\n",
    "plt.figure(figsize=(8,6))\n",
    "plt.plot(range(1,4),error,'ro',ms=5)\n",
    "plt.xlabel('Orden del polinomio')\n",
    "plt.ylabel('Error')"
   ]
  },
  {
   "cell_type": "markdown",
   "metadata": {},
   "source": [
    "*Conclusión*"
   ]
  },
  {
   "cell_type": "markdown",
   "metadata": {},
   "source": [
    "Según la gráfica anterior, el polinomio que mejor se ajusta es el de tercer orden."
   ]
  },
  {
   "cell_type": "markdown",
   "metadata": {},
   "source": [
    "**Punto 3 (10 puntos).** Con los polinomios ajustados en el punto anterior, estime la población en el año 2016 (57) y compare con el dato real 79.577%.\n",
    "\n",
    "¿Cuál polinomio estima mejor este dato? ¿Es el polinomio que mejor se ajusta? Concluya."
   ]
  },
  {
   "cell_type": "markdown",
   "metadata": {
    "collapsed": true
   },
   "source": [
    "**Solución punto 3.**"
   ]
  },
  {
   "cell_type": "code",
   "execution_count": 29,
   "metadata": {},
   "outputs": [
    {
     "data": {
      "text/plain": [
       "(82.54416014486628, 78.60805047106248, 79.21995326430978, 79.577)"
      ]
     },
     "execution_count": 29,
     "metadata": {},
     "output_type": "execute_result"
    }
   ],
   "source": [
    "x = 57\n",
    "yhat1 = beta1[0] + beta1[1]*x\n",
    "yhat2 = beta2[0] + beta2[1]*x + beta2[2]*x**2\n",
    "yhat3 = beta3[0] + beta3[1]*x + beta3[2]*x**2 + beta3[3]*x**3\n",
    "\n",
    "yhat1,yhat2,yhat3,79.577"
   ]
  },
  {
   "cell_type": "markdown",
   "metadata": {},
   "source": [
    "*Conclusión*. El polinomio que mejor estima este dato es el polinomio de grado tres."
   ]
  }
 ],
 "metadata": {
  "kernelspec": {
   "display_name": "Python 3",
   "language": "python",
   "name": "python3"
  },
  "language_info": {
   "codemirror_mode": {
    "name": "ipython",
    "version": 3
   },
   "file_extension": ".py",
   "mimetype": "text/x-python",
   "name": "python",
   "nbconvert_exporter": "python",
   "pygments_lexer": "ipython3",
   "version": "3.7.3"
  }
 },
 "nbformat": 4,
 "nbformat_minor": 2
}
